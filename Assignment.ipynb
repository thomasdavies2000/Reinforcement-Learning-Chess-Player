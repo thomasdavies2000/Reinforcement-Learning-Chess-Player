{
 "cells": [
  {
   "attachments": {},
   "cell_type": "markdown",
   "metadata": {},
   "source": [
    "# Assignment"
   ]
  },
  {
   "cell_type": "code",
   "execution_count": 2,
   "metadata": {},
   "outputs": [],
   "source": [
    "# Import \n",
    "\n",
    "import numpy as np\n",
    "import matplotlib.pyplot as plt\n",
    "from degree_freedom_queen import *\n",
    "from degree_freedom_king1 import *\n",
    "from degree_freedom_king2 import *\n",
    "from generate_game import *\n",
    "from Chess_env import *\n",
    "import numpy.matlib \n",
    "\n",
    "\n",
    "size_board = 4"
   ]
  },
  {
   "attachments": {},
   "cell_type": "markdown",
   "metadata": {},
   "source": [
    "## The Environment\n",
    "\n",
    "You can find the environment in the file Chess_env, which contains the class Chess_env. To define an object, you need to provide the board size considered as input. In our example, size_board=4. \n",
    "Chess_env is composed by the following methods:\n",
    "\n",
    "1. Initialise_game. The method initialises an episode by placing the three pieces considered (Agent's king and queen, enemy's king) in the chess board. The outputs of the method are described below in order.\n",
    "\n",
    "     S $\\;$ A matrix representing the board locations filled with 4 numbers: 0, no piece in that position; 1, location of the \n",
    "     agent's king; 2 location of the queen; 3 location of the enemy king.\n",
    "     \n",
    "     X $\\;$ The features, that is the input to the neural network. See the assignment for more information regarding the            definition of the features adopted. To personalise this, go into the Features method of the class Chess_env() and change        accordingly.\n",
    "     \n",
    "     allowed_a $\\;$ The allowed actions that the agent can make. The agent is moving a king, with a total number of 8                possible actions, and a queen, with a total number of $(board_{size}-1)\\times 8$ actions. The total number of possible actions correspond      to the sum of the two, but not all actions are allowed in a given position (movements to locations outside the borders or      against chess rules). Thus, the variable allowed_a is a vector that is one (zero) for an action that the agent can (can't)      make. Be careful, apply the policy considered on the actions that are allowed only.\n",
    "     \n",
    "\n",
    "2. OneStep. The method performs a one step update of the system. Given as input the action selected by the agent, it updates the chess board by performing that action and the response of the enemy king (which is a random allowed action in the settings considered). The first three outputs are the same as for the Initialise_game method, but the variables are computed for the position reached after the update of the system. The fourth and fifth outputs are:\n",
    "\n",
    "     R $\\;$ The reward. To change this, look at the OneStep method of the class where the rewards are set.\n",
    "     \n",
    "     Done $\\;$ A variable that is 1 if the episode has ended (checkmate or draw).\n",
    "     \n",
    "     \n",
    "3. Features. Given the chessboard position, the method computes the features.\n",
    "\n",
    "This information and a quick analysis of the class should be all you need to get going. The other functions that the class exploits are uncommented and constitute an example on how not to write a python code. You can take a look at them if you want, but it is not necessary.\n",
    "\n",
    "\n",
    "\n",
    "\n"
   ]
  },
  {
   "cell_type": "code",
   "execution_count": 3,
   "metadata": {},
   "outputs": [],
   "source": [
    "## INITIALISE THE ENVIRONMENT\n",
    "\n",
    "env=Chess_Env(size_board)\n",
    "\n",
    "# 0 (NO PIECE), 1 (AGENT'S KING), 2 (AGENT'S QUEEN), 3 (OPPONENT'S KING)"
   ]
  },
  {
   "cell_type": "code",
   "execution_count": 12,
   "metadata": {},
   "outputs": [
    {
     "name": "stdout",
     "output_type": "stream",
     "text": [
      "[[3 0 0 0]\n",
      " [0 0 0 2]\n",
      " [0 0 0 0]\n",
      " [0 1 0 0]]\n",
      "check?  0\n",
      "dofk2  1\n",
      "\n",
      "[[0 3 0 0]\n",
      " [0 0 0 2]\n",
      " [0 0 0 0]\n",
      " [0 0 1 0]]\n",
      "0  0\n",
      "check?  0\n",
      "dofk2  1\n",
      "\n",
      "[[3 0 0 0]\n",
      " [0 0 0 2]\n",
      " [0 0 0 1]\n",
      " [0 0 0 0]]\n",
      "0  0\n",
      "check?  0\n",
      "dofk2  1\n",
      "\n",
      "[[0 0 0 0]\n",
      " [3 0 1 2]\n",
      " [0 0 0 0]\n",
      " [0 0 0 0]]\n",
      "0  0\n",
      "check?  0\n",
      "dofk2  2\n",
      "\n",
      "[[3 0 0 0]\n",
      " [0 0 1 0]\n",
      " [0 0 0 0]\n",
      " [0 2 0 0]]\n",
      "0  0\n",
      "check?  0\n",
      "dofk2  1\n",
      "\n",
      "[[0 0 0 1]\n",
      " [3 0 0 0]\n",
      " [0 0 0 0]\n",
      " [0 2 0 0]]\n",
      "0  0\n",
      "check?  0\n",
      "dofk2  1\n"
     ]
    }
   ],
   "source": [
    "## PRINT 5 STEPS OF AN EPISODE CONSIDERING A RANDOM AGENT\n",
    "\n",
    "S,X,allowed_a=env.Initialise_game()                       # INTIALISE GAME\n",
    "\n",
    "print(S)                                                  # PRINT CHESS BOARD (SEE THE DESCRIPTION ABOVE)\n",
    "\n",
    "print('check? ',env.check)                                # PRINT VARIABLE THAT TELLS IF ENEMY KING IS IN CHECK (1) OR NOT (0)\n",
    "print('dofk2 ',np.sum(env.dfk2_constrain).astype(int))    # PRINT THE NUMBER OF LOCATIONS THAT THE ENEMY KING CAN MOVE TO\n",
    "\n",
    "\n",
    "for i in range(5):\n",
    "    \n",
    "    a,_=np.where(allowed_a==1)                  # FIND WHAT THE ALLOWED ACTIONS ARE\n",
    "    a_agent=np.random.permutation(a)[0]         # MAKE A RANDOM ACTION\n",
    "\n",
    "    S,X,allowed_a,R,Done=env.OneStep(a_agent)   # UPDATE THE ENVIRONMENT\n",
    "    \n",
    "    \n",
    "    ## PRINT CHESS BOARD AND VARIABLES\n",
    "    print('')\n",
    "    print(S)\n",
    "    print(R,'', Done)\n",
    "    print('check? ',env.check)\n",
    "    print('dofk2 ',np.sum(env.dfk2_constrain).astype(int))\n",
    "    \n",
    "    \n",
    "    # TERMINATE THE EPISODE IF Done=True (DRAW OR CHECKMATE)\n",
    "    if Done:\n",
    "        break\n",
    "        \n"
   ]
  },
  {
   "cell_type": "code",
   "execution_count": 22,
   "metadata": {},
   "outputs": [
    {
     "name": "stdout",
     "output_type": "stream",
     "text": [
      "Random_Agent, Average reward: 0.211 Number of steps:  7.227\n"
     ]
    }
   ],
   "source": [
    "# PERFORM N_episodes=1000 EPISODES MAKING RANDOM ACTIONS AND COMPUTE THE AVERAGE REWARD AND NUMBER OF MOVES \n",
    "\n",
    "S,X,allowed_a=env.Initialise_game()\n",
    "N_episodes=1000\n",
    "\n",
    "# VARIABLES WHERE TO SAVE THE FINAL REWARD IN AN EPISODE AND THE NUMBER OF MOVES \n",
    "R_save_random = np.zeros([N_episodes, 1])\n",
    "N_moves_save_random = np.zeros([N_episodes, 1])\n",
    "\n",
    "for n in range(N_episodes):\n",
    "    \n",
    "    S,X,allowed_a=env.Initialise_game()     # INITIALISE GAME\n",
    "    Done=0                                  # SET Done=0 AT THE BEGINNING\n",
    "    i=1                                     # COUNTER FOR THE NUMBER OF ACTIONS (MOVES) IN AN EPISODE\n",
    "    \n",
    "    # UNTIL THE EPISODE IS NOT OVER...(Done=0)\n",
    "    while Done==0:\n",
    "        \n",
    "        # SAME AS THE CELL BEFORE, BUT SAVING THE RESULTS WHEN THE EPISODE TERMINATES \n",
    "        \n",
    "        a,_=np.where(allowed_a==1)\n",
    "        a_agent=np.random.permutation(a)[0]\n",
    "\n",
    "        S,X,allowed_a,R,Done=env.OneStep(a_agent)\n",
    "        \n",
    "        \n",
    "        if Done:\n",
    "            \n",
    "            R_save_random[n]=np.copy(R)\n",
    "            N_moves_save_random[n]=np.copy(i)\n",
    "\n",
    "            break\n",
    "\n",
    "        i=i+1                               # UPDATE THE COUNTER\n",
    "\n",
    "\n",
    "\n",
    "# AS YOU SEE, THE PERFORMANCE OF A RANDOM AGENT ARE NOT GREAT, SINCE THE MAJORITY OF THE POSITIONS END WITH A DRAW \n",
    "# (THE ENEMY KING IS NOT IN CHECK AND CAN'T MOVE)\n",
    "\n",
    "print('Random_Agent, Average reward:',np.mean(R_save_random),'Number of steps: ',np.mean(N_moves_save_random))\n",
    "\n"
   ]
  },
  {
   "cell_type": "code",
   "execution_count": 4,
   "metadata": {},
   "outputs": [],
   "source": [
    "def Init_network():\n",
    "    S,X,allowed_a=env.Initialise_game()\n",
    "    N_a=np.shape(allowed_a)[0]   # TOTAL NUMBER OF POSSIBLE ACTIONS\n",
    "\n",
    "    N_in=np.shape(X)[0]    ## INPUT SIZE\n",
    "    N_h=200                ## NUMBER OF HIDDEN NODES\n",
    "\n",
    "\n",
    "    ## INITALISE YOUR NEURAL NETWORK...\n",
    "\n",
    "    # YOUR CODE HERE\n",
    "\n",
    "    ## INITALISE YOUR NEURAL NETWORK...\n",
    "    W1=np.random.randn(N_h,N_in) * np.sqrt(1/N_in)\n",
    "    W2=np.random.randn(N_a, N_h) * np.sqrt(1/N_h)\n",
    "\n",
    "                        \n",
    "    bias_W1 = np.zeros((N_h,))\n",
    "\n",
    "    bias_W2 = np.zeros((N_a,))\n",
    "    return S, X, W1,W2,bias_W1,bias_W2"
   ]
  },
  {
   "cell_type": "code",
   "execution_count": 6,
   "metadata": {},
   "outputs": [],
   "source": [
    "# INITIALISE THE PARAMETERS OF YOUR NEURAL NETWORK AND...\n",
    "# PLEASE CONSIDER TO USE A MASK OF ONE FOR THE ACTION MADE AND ZERO OTHERWISE IF YOU ARE NOT USING VANILLA GRADIENT DESCENT...\n",
    "# WE SUGGEST A NETWORK WITH ONE HIDDEN LAYER WITH SIZE 200. \n",
    "\n",
    "S, X, W1,W2,bias_W1,bias_W2=Init_network()\n",
    "\n",
    "\n",
    "\n",
    "# HYPERPARAMETERS SUGGESTED (FOR A GRID SIZE OF 4)\n",
    "\n",
    "epsilon_0 = 0.2     # STARTING VALUE OF EPSILON FOR THE EPSILON-GREEDY POLICY\n",
    "beta = 0.00005      # THE PARAMETER SETS HOW QUICKLY THE VALUE OF EPSILON IS DECAYING (SEE epsilon_f BELOW)\n",
    "gamma = 0.85        # THE DISCOUNT FACTOR\n",
    "eta = 0.0035        # THE LEARNING RATE\n",
    "\n",
    "N_episodes = 10000 # THE NUMBER OF GAMES TO BE PLAYED \n",
    "\n",
    "# SAVING VARIABLES\n",
    "R_save = np.zeros([N_episodes, 1])\n",
    "N_moves_save = np.zeros([N_episodes, 1])\n"
   ]
  },
  {
   "cell_type": "code",
   "execution_count": 7,
   "metadata": {},
   "outputs": [
    {
     "name": "stdout",
     "output_type": "stream",
     "text": [
      "(array([ 0.50775425,  0.15799453, -0.02775938,  0.58248141, -0.13661834,\n",
      "        0.15330373, -0.30498919,  0.05550807, -0.36362678, -0.15379775,\n",
      "        0.12439671,  0.35515087, -0.17566648,  0.31732014, -0.22244198,\n",
      "        0.77489793, -0.04446462,  0.0745635 ,  0.35766525, -0.3913295 ,\n",
      "        0.15040954,  0.40389666,  0.03159129, -0.0669274 ,  0.43304444,\n",
      "        0.05397622,  0.04657174, -0.08769033, -0.28739924, -0.30444536,\n",
      "       -0.21057948, -0.55784258,  0.00569433, -0.05805386, -0.22991305,\n",
      "       -0.03898213, -0.50098799, -0.28466754,  0.1122083 ,  0.46624042,\n",
      "        0.42843424, -0.18427366,  0.54022391,  0.53678426, -0.04746057,\n",
      "        0.24287524, -0.09526637,  0.08043939,  0.16879553, -0.11629619,\n",
      "        0.0901086 ,  0.14616239, -0.0596628 , -0.08680159, -0.01385657,\n",
      "        0.07606817, -0.27815835, -0.05486417, -0.06545373, -0.04332271,\n",
      "       -0.21145939,  0.09431806, -0.02205523,  0.32549825, -0.23148032,\n",
      "        0.00262737, -0.22207254, -0.11000954, -0.11247229,  0.61702718,\n",
      "       -0.39561885, -0.27599212, -0.3939386 ,  0.04101161,  0.06654807,\n",
      "       -0.02164604,  0.60860946,  0.25622797,  0.3816057 ,  0.09553504,\n",
      "        0.02414636,  0.08057944,  0.26817841, -0.34545432,  0.75884644,\n",
      "        0.2271162 ,  0.00849232,  0.20800933,  0.20000467,  0.48477714,\n",
      "        0.20533141, -0.00814073,  0.13642604, -0.23245246, -0.11916694,\n",
      "       -0.01975463, -0.37946344,  0.0028986 ,  0.19112788,  0.02151683,\n",
      "        0.07960207,  0.0661844 ,  0.07188941,  0.00368527,  0.15164879,\n",
      "       -0.59034376, -0.04033498, -0.13128252,  0.3658878 , -0.06817948,\n",
      "        0.23835852, -0.19239261,  0.55544243,  0.2056357 ,  0.25686109,\n",
      "       -0.04104944, -0.14466064, -0.03674242,  0.13672996, -0.30779163,\n",
      "        0.21832034, -0.17950903, -0.16531679, -0.42607843,  0.1056981 ,\n",
      "       -0.00225514,  0.27532701, -0.04418327,  0.37824752, -0.09437751,\n",
      "        0.25111616, -0.13433054, -0.20676536, -0.2071301 , -0.50984263,\n",
      "        0.11111318,  0.33420731, -0.21710279,  0.17439637,  0.12594176,\n",
      "       -0.0383557 , -0.69107611, -0.30636854, -0.00694009, -0.37739587,\n",
      "       -0.25849792,  0.32334669, -0.01837412, -0.11171952,  0.2025737 ,\n",
      "        0.04826981,  0.2649069 ,  0.11609949,  0.18453711,  0.03863155,\n",
      "        0.15339864,  0.00594099, -0.15759626, -0.24544522,  0.22311677,\n",
      "       -0.22586045, -0.10895088,  0.39179473, -0.58199303, -0.48879923,\n",
      "       -0.15741155, -0.34831541,  0.01595827, -0.15257999,  0.3994825 ,\n",
      "       -0.03708413, -0.43545817,  0.19958372, -0.10314013,  0.33176892,\n",
      "        0.14600405, -0.38167503, -0.14665396,  0.28009399, -0.07758157,\n",
      "       -0.48547027, -0.56194693,  0.12273315,  0.49508318,  0.29925649,\n",
      "       -0.22290863, -0.27989327, -0.02579167,  0.04635747, -0.10762417,\n",
      "       -0.30955166, -0.35868516,  0.00825355,  0.23054951, -0.0532046 ,\n",
      "        0.01666827,  0.1101537 , -0.25618599, -0.18194804,  0.32002891]), array([ 0.50775425,  0.15799453, -0.        ,  0.58248141, -0.        ,\n",
      "        0.15330373, -0.        ,  0.05550807, -0.        , -0.        ,\n",
      "        0.12439671,  0.35515087, -0.        ,  0.31732014, -0.        ,\n",
      "        0.77489793, -0.        ,  0.0745635 ,  0.35766525, -0.        ,\n",
      "        0.15040954,  0.40389666,  0.03159129, -0.        ,  0.43304444,\n",
      "        0.05397622,  0.04657174, -0.        , -0.        , -0.        ,\n",
      "       -0.        , -0.        ,  0.00569433, -0.        , -0.        ,\n",
      "       -0.        , -0.        , -0.        ,  0.1122083 ,  0.46624042,\n",
      "        0.42843424, -0.        ,  0.54022391,  0.53678426, -0.        ,\n",
      "        0.24287524, -0.        ,  0.08043939,  0.16879553, -0.        ,\n",
      "        0.0901086 ,  0.14616239, -0.        , -0.        , -0.        ,\n",
      "        0.07606817, -0.        , -0.        , -0.        , -0.        ,\n",
      "       -0.        ,  0.09431806, -0.        ,  0.32549825, -0.        ,\n",
      "        0.00262737, -0.        , -0.        , -0.        ,  0.61702718,\n",
      "       -0.        , -0.        , -0.        ,  0.04101161,  0.06654807,\n",
      "       -0.        ,  0.60860946,  0.25622797,  0.3816057 ,  0.09553504,\n",
      "        0.02414636,  0.08057944,  0.26817841, -0.        ,  0.75884644,\n",
      "        0.2271162 ,  0.00849232,  0.20800933,  0.20000467,  0.48477714,\n",
      "        0.20533141, -0.        ,  0.13642604, -0.        , -0.        ,\n",
      "       -0.        , -0.        ,  0.0028986 ,  0.19112788,  0.02151683,\n",
      "        0.07960207,  0.0661844 ,  0.07188941,  0.00368527,  0.15164879,\n",
      "       -0.        , -0.        , -0.        ,  0.3658878 , -0.        ,\n",
      "        0.23835852, -0.        ,  0.55544243,  0.2056357 ,  0.25686109,\n",
      "       -0.        , -0.        , -0.        ,  0.13672996, -0.        ,\n",
      "        0.21832034, -0.        , -0.        , -0.        ,  0.1056981 ,\n",
      "       -0.        ,  0.27532701, -0.        ,  0.37824752, -0.        ,\n",
      "        0.25111616, -0.        , -0.        , -0.        , -0.        ,\n",
      "        0.11111318,  0.33420731, -0.        ,  0.17439637,  0.12594176,\n",
      "       -0.        , -0.        , -0.        , -0.        , -0.        ,\n",
      "       -0.        ,  0.32334669, -0.        , -0.        ,  0.2025737 ,\n",
      "        0.04826981,  0.2649069 ,  0.11609949,  0.18453711,  0.03863155,\n",
      "        0.15339864,  0.00594099, -0.        , -0.        ,  0.22311677,\n",
      "       -0.        , -0.        ,  0.39179473, -0.        , -0.        ,\n",
      "       -0.        , -0.        ,  0.01595827, -0.        ,  0.3994825 ,\n",
      "       -0.        , -0.        ,  0.19958372, -0.        ,  0.33176892,\n",
      "        0.14600405, -0.        , -0.        ,  0.28009399, -0.        ,\n",
      "       -0.        , -0.        ,  0.12273315,  0.49508318,  0.29925649,\n",
      "       -0.        , -0.        , -0.        ,  0.04635747, -0.        ,\n",
      "       -0.        , -0.        ,  0.00825355,  0.23054951, -0.        ,\n",
      "        0.01666827,  0.1101537 , -0.        , -0.        ,  0.32002891]), array([ 0.28177942, -0.37689402, -0.1127295 , -0.46000169, -0.01169224,\n",
      "        0.06698135,  0.13454782,  0.18034306,  0.02292467,  0.00706446,\n",
      "       -0.13210954, -0.16730235, -0.22636527,  0.37768477, -0.18352484,\n",
      "        0.11324189,  0.09710612,  0.08332203, -0.20164858,  0.10277589,\n",
      "       -0.09101841, -0.02532355,  0.0265016 , -0.03561806,  0.23439616,\n",
      "        0.09705997, -0.24925584, -0.15081915, -0.42045765,  0.06067104,\n",
      "       -0.23115703,  0.03462221]), array([ 0.28177942, -0.        , -0.        , -0.        , -0.        ,\n",
      "        0.06698135,  0.13454782,  0.18034306,  0.02292467,  0.00706446,\n",
      "       -0.        , -0.        , -0.        ,  0.37768477, -0.        ,\n",
      "        0.11324189,  0.09710612,  0.08332203, -0.        ,  0.10277589,\n",
      "       -0.        , -0.        ,  0.0265016 , -0.        ,  0.23439616,\n",
      "        0.09705997, -0.        , -0.        , -0.        ,  0.06067104,\n",
      "       -0.        ,  0.03462221]))\n"
     ]
    }
   ],
   "source": [
    "def forward_prop(state, W1, W2, bias_W1, bias_W2):\n",
    "    \n",
    "    h1 = np.dot(W1, state) + bias_W1\n",
    "    x1 = (h1 > 0) * h1\n",
    "    \n",
    "    h2 = np.dot(W2, x1) + bias_W2\n",
    "    x2 = (h2 > 0) * h2\n",
    "\n",
    "#     output_layer_output = np.maximum(0, output_layer_input)\n",
    "#     return output_layer_input\n",
    "    return h1, x1, h2, x2\n",
    "\n",
    "\n",
    "# write a function to get q values for all actions\n",
    "\n",
    "print(forward_prop(X, W1, W2, bias_W1, bias_W2))"
   ]
  },
  {
   "cell_type": "code",
   "execution_count": 13,
   "metadata": {},
   "outputs": [],
   "source": []
  },
  {
   "cell_type": "code",
   "execution_count": null,
   "metadata": {},
   "outputs": [],
   "source": [
    "\n"
   ]
  },
  {
   "cell_type": "code",
   "execution_count": 8,
   "metadata": {},
   "outputs": [],
   "source": [
    "def EpsilonGreedy_Policy(qvalues, epsilon, allowed_actions):\n",
    "    Qvalues = qvalues.reshape((32, 1))\n",
    "    \n",
    "    N_a=np.shape(Qvalues)[0]\n",
    "\n",
    "    rand_value=np.random.uniform(0,1)\n",
    "\n",
    "    rand_a=rand_value<epsilon\n",
    "    \n",
    "    if rand_a==True:\n",
    "        \n",
    "        allowed_indices = np.where(allowed_actions == 1)[0]\n",
    "        a = np.random.choice(allowed_indices)\n",
    "        \n",
    "        \n",
    "    else:\n",
    "            allowed_indices = np.where(allowed_actions == 1)[0]\n",
    "            allowed_Qvalues = Qvalues[allowed_indices]\n",
    "            max_index = allowed_indices[np.argmax(allowed_Qvalues)]\n",
    "            a = max_index\n",
    "        \n",
    "        \n",
    "            \n",
    "    return a"
   ]
  },
  {
   "cell_type": "code",
   "execution_count": null,
   "metadata": {},
   "outputs": [],
   "source": [
    "\n"
   ]
  },
  {
   "cell_type": "code",
   "execution_count": 21,
   "metadata": {},
   "outputs": [],
   "source": [
    "# INITIALISE THE PARAMETERS OF YOUR NEURAL NETWORK AND...\n",
    "# PLEASE CONSIDER TO USE A MASK OF ONE FOR THE ACTION MADE AND ZERO OTHERWISE IF YOU ARE NOT USING VANILLA GRADIENT DESCENT...\n",
    "# WE SUGGEST A NETWORK WITH ONE HIDDEN LAYER WITH SIZE 200. \n",
    "\n",
    "S, X, W1,W2,bias_W1,bias_W2=Init_network()\n",
    "\n",
    "# HYPERPARAMETERS SUGGESTED (FOR A GRID SIZE OF 4)\n",
    "\n",
    "epsilon_0 = 0.2     # STARTING VALUE OF EPSILON FOR THE EPSILON-GREEDY POLICY\n",
    "beta = 0.00005      # THE PARAMETER SETS HOW QUICKLY THE VALUE OF EPSILON IS DECAYING (SEE epsilon_f BELOW)\n",
    "gamma = 0.85        # THE DISCOUNT FACTOR\n",
    "eta = 0.0035        # THE LEARNING RATE\n",
    "\n",
    "N_episodes = 10000 # THE NUMBER OF GAMES TO BE PLAYED \n",
    "# s\n",
    "# SAVING VARIABLES\n",
    "R_save_q = np.zeros([N_episodes, 1])\n",
    "N_moves_save_q = np.zeros([N_episodes, 1])\n"
   ]
  },
  {
   "cell_type": "code",
   "execution_count": 25,
   "metadata": {},
   "outputs": [],
   "source": [
    "def plot_results(data, alpha, rewards):\n",
    "    ema = np.zeros_like(data)  # Initialize an array for EMA values\n",
    "    ema[0] = data[0]  # Set the initial EMA value equal to the first data point\n",
    "    for i in range(1, len(data)):\n",
    "        ema[i] = alpha * data[i] + (1 - alpha) * ema[i-1]\n",
    "\n",
    "    fig=plt.subplots(1,1)\n",
    "    plt.plot(np.sum(ema,1))\n",
    "    \n",
    "    plt.xlabel('Episode Number')\n",
    "    if rewards == True:\n",
    "        plt.ylabel('Average reward')\n",
    "    else:\n",
    "        plt.ylabel('Average number of steps')\n",
    "    plt.show()"
   ]
  },
  {
   "cell_type": "code",
   "execution_count": 9,
   "metadata": {},
   "outputs": [],
   "source": [
    "\n",
    "# USE THIS TO TEST MY IMPLEMENTATION\n",
    "\n",
    "\n",
    "\n",
    "def training_loop(q_learning, N_episodes, epsilon_0, beta, gamma, eta):\n",
    "    R_save = np.zeros([N_episodes, 1])\n",
    "    N_moves_save = np.zeros([N_episodes, 1])\n",
    "\n",
    "    S, X, W1,W2,bias_W1,bias_W2=Init_network()\n",
    "    for n in range(N_episodes):\n",
    "        epsilon_f = epsilon_0 / (1 + beta * n)   ## DECAYING EPSILON\n",
    "        Done=0                                   ## SET DONE TO ZERO (BEGINNING OF THE EPISODE)\n",
    "        i = 1                                    ## COUNTER FOR NUMBER OF ACTIONS\n",
    "        \n",
    "        S,X,allowed_a=env.Initialise_game()      ## INITIALISE GAME\n",
    "                                     ## REMOVE THIS OF COURSE, WE USED THIS TO CHECK THAT IT WAS RUNNING\n",
    "        \n",
    "        while Done==0:                           ## START THE EPISODE\n",
    "            \n",
    "            \n",
    "            \n",
    "            \n",
    "            h1, x1, h2, q_values = forward_prop(X, W1, W2, bias_W1, bias_W2)\n",
    "            \n",
    "            a_agent= EpsilonGreedy_Policy(q_values, epsilon_f, allowed_a)\n",
    "            \n",
    "            \n",
    "                    \n",
    "            S_next,X_next,allowed_a_next,R,Done=env.OneStep(a_agent)\n",
    "\n",
    "\n",
    "\n",
    "            \n",
    "            ## THE EPISODE HAS ENDED, UPDATE...BE CAREFUL, THIS IS THE LAST STEP OF THE EPISODE\n",
    "            if Done==1:\n",
    "                \n",
    "                # write the weight updates for the last step of the episode\n",
    "                \n",
    "                target_q_values = q_values.copy()\n",
    "                target_q_values[a_agent] = R \n",
    "                e_n = target_q_values - q_values\n",
    "                dW2 = np.outer(e_n, x1)\n",
    "                dbias_W2 = e_n\n",
    "                dh = np.dot(W2.T, e_n)\n",
    "                dh[h1 <= 0] = 0\n",
    "                dW1 = np.outer(dh, X)\n",
    "                dbias_W1 = dh\n",
    "                \n",
    "\n",
    "\n",
    "                W2 += eta*dW2\n",
    "                W1 += eta*dW1\n",
    "\n",
    "                bias_W1 += eta*dbias_W1\n",
    "                bias_W2 += eta*dbias_W2\n",
    "\n",
    "                R_save[n]=np.copy(R)\n",
    "                N_moves_save[n]=np.copy(i)\n",
    "                break\n",
    "            \n",
    "            \n",
    "            \n",
    "            \n",
    "            # IF THE EPISODE IS NOT OVER...\n",
    "            else:\n",
    "                \n",
    "                h1_next, x1_next, h2_next, q_values1 = forward_prop(X_next, W1, W2, bias_W1, bias_W2)\n",
    "                if q_learning == True:\n",
    "                    # Q learning \"greedy\" policy\n",
    "                    a_agent1 = EpsilonGreedy_Policy(q_values1, 0, allowed_a)\n",
    "                else:\n",
    "                    # SARSA policy\n",
    "                    a_agent1 = EpsilonGreedy_Policy(q_values1, epsilon_f, allowed_a)\n",
    "\n",
    "                target_q_values = q_values.copy()\n",
    "                target_q_values[a_agent] = R + gamma*q_values1[a_agent1]\n",
    "                e_n = target_q_values - q_values\n",
    "                \n",
    "                dW2 = np.outer(e_n, x1)\n",
    "                dbias_W2 = e_n\n",
    "                dh = np.dot(W2.T, e_n)\n",
    "                dh[h1 <= 0] = 0\n",
    "                dW1 = np.outer(dh, X)\n",
    "                dbias_W1 = dh\n",
    "                \n",
    "                W2 += eta*dW2\n",
    "                W1 += eta*dW1\n",
    "\n",
    "                bias_W1 += eta*dbias_W1\n",
    "                bias_W2 += eta*dbias_W2\n",
    "\n",
    "                \n",
    "            # NEXT STATE AND CO. BECOME ACTUAL STATE...     \n",
    "                S=np.copy(S_next)\n",
    "                X=np.copy(X_next)\n",
    "                allowed_a=np.copy(allowed_a_next)\n",
    "                \n",
    "                i += 1  # UPDATE COUNTER FOR NUMBER OF ACTIONS\n",
    "    \n",
    "    print(' Average reward:',np.mean(R_save),'Number of steps: ',np.mean(N_moves_save))\n",
    "    return R_save, N_moves_save"
   ]
  },
  {
   "cell_type": "code",
   "execution_count": 19,
   "id": "5ffaa7ee",
   "metadata": {},
   "outputs": [
    {
     "name": "stdout",
     "output_type": "stream",
     "text": [
      " Average reward: 0.7605 Number of steps:  7.24004\n",
      " Average reward: 0.76544 Number of steps:  7.75486\n",
      " Average reward: 0.90146 Number of steps:  5.28384\n",
      " Average reward: 0.90554 Number of steps:  6.10346\n",
      " Average reward: 0.73866 Number of steps:  9.46522\n",
      " Average reward: 0.83626 Number of steps:  8.30584\n",
      " Average reward: 0.88452 Number of steps:  6.06796\n",
      " Average reward: 0.90102 Number of steps:  6.6542\n"
     ]
    }
   ],
   "source": [
    "# This is where various parameters are tested\n",
    "\n",
    "\n",
    "runs = []\n",
    "betas = [0.000005,0.00001,0.00005, 0.0001]\n",
    "for beta_ in betas:\n",
    "    rewards, steps = training_loop(True, 50000, epsilon_0=0.2, beta=beta_, gamma=0.85, eta=0.0035)\n",
    "    run = [rewards, steps]\n",
    "    runs.append(run)\n",
    "\n",
    "gammas = [0.75, 0.8, 0.85, 0.9]\n",
    "runs_gamma = []   \n",
    "for gamma_ in gammas:\n",
    "    rewards, steps = training_loop(True, 50000, epsilon_0=0.2, beta=0.00005, gamma=gamma_, eta=0.0035)\n",
    "    run = [rewards, steps]\n",
    "    runs_gamma.append(run)"
   ]
  },
  {
   "cell_type": "code",
   "execution_count": 36,
   "metadata": {},
   "outputs": [
    {
     "data": {
      "image/png": "[encoded data removed]",
      "text/plain": [
       "<Figure size 432x288 with 1 Axes>"
      ]
     },
     "metadata": {
      "needs_background": "light"
     },
     "output_type": "display_data"
    }
   ],
   "source": [
    "fig, ax = plt.subplots(1, 1)\n",
    "count = 0\n",
    "for run in runs:\n",
    "    rewards = run[0]\n",
    "    steps = run[1]\n",
    "    alpha = 0.0002\n",
    "    ema_r = np.zeros_like(rewards)  # Initialize an array for EMA values\n",
    "    ema_r[0] = rewards[0]  # Set the initial EMA value equal to the first data point\n",
    "    for i in range(1, len(rewards)):\n",
    "        ema_r[i] = alpha * rewards[i] + (1 - alpha) * ema_r[i - 1]\n",
    "    beta = betas[count]\n",
    "    ax.plot(np.sum(ema_r, 1), label='β = ' + str(beta))\n",
    "    count += 1\n",
    "ax.set_xlabel('Episode Number')\n",
    "ax.set_ylabel('Average Reward')\n",
    "ax.legend()\n",
    "plt.show()"
   ]
  },
  {
   "cell_type": "code",
   "execution_count": 37,
   "metadata": {},
   "outputs": [
    {
     "data": {
      "image/png": "[encoded data removed]",
      "text/plain": [
       "<Figure size 432x288 with 1 Axes>"
      ]
     },
     "metadata": {
      "needs_background": "light"
     },
     "output_type": "display_data"
    }
   ],
   "source": [
    "fig, ax = plt.subplots(1, 1)\n",
    "count = 0\n",
    "for run in runs_gamma:\n",
    "    rewards = run[0]\n",
    "    steps = run[1]\n",
    "    alpha = 0.0001\n",
    "    ema_r = np.zeros_like(rewards)  # Initialize an array for EMA values\n",
    "    ema_r[0] = rewards[0]  # Set the initial EMA value equal to the first data point\n",
    "    for i in range(1, len(rewards)):\n",
    "        ema_r[i] = alpha * rewards[i] + (1 - alpha) * ema_r[i - 1]\n",
    "    gamma = gammas[count]\n",
    "    ax.plot(np.sum(ema_r, 1), label='γ = ' + str(gamma))\n",
    "    count += 1\n",
    "ax.set_xlabel('Episode Number')\n",
    "ax.set_ylabel('Average Reward')\n",
    "ax.legend()\n",
    "plt.show()"
   ]
  },
  {
   "cell_type": "code",
   "execution_count": 31,
   "id": "c3c59649",
   "metadata": {},
   "outputs": [
    {
     "data": {
      "image/png": "[encoded data removed]",
      "text/plain": [
       "<Figure size 432x288 with 1 Axes>"
      ]
     },
     "metadata": {
      "needs_background": "light"
     },
     "output_type": "display_data"
    }
   ],
   "source": [
    "fig, ax = plt.subplots(1, 1)\n",
    "count = 0\n",
    "for run in runs_gamma:\n",
    "    rewards = run[0]\n",
    "    steps = run[1]\n",
    "    alpha = 0.0001\n",
    "    ema_r = np.zeros_like(steps)  # Initialize an array for EMA values\n",
    "    ema_r[0] = steps[0]  # Set the initial EMA value equal to the first data point\n",
    "    for i in range(1, len(steps)):\n",
    "        ema_r[i] = alpha * steps[i] + (1 - alpha) * ema_r[i - 1]\n",
    "    beta = betas[count]\n",
    "    ax.plot(np.sum(ema_r, 1), label='γ = ' + str(beta))\n",
    "    count += 1\n",
    "ax.set_xlabel('Episode Number')\n",
    "ax.set_ylabel('Average Number of steps')\n",
    "ax.legend()\n",
    "plt.show()"
   ]
  },
  {
   "cell_type": "code",
   "execution_count": 38,
   "metadata": {},
   "outputs": [
    {
     "name": "stdout",
     "output_type": "stream",
     "text": [
      " Average reward: 0.88462 Number of steps:  7.40514\n",
      " Average reward: 0.84224 Number of steps:  7.56022\n"
     ]
    }
   ],
   "source": [
    "# Deep Q-learning\n",
    "rewards_q, steps_q = training_loop(True, 50000, epsilon_0=0.2, beta=0.00005, gamma=0.85, eta=0.0035)\n",
    "# Sarsa\n",
    "rewards_s, steps_s = training_loop(False, 50000, epsilon_0=0.2, beta=0.00005, gamma=0.85, eta=0.0035)"
   ]
  },
  {
   "cell_type": "code",
   "execution_count": 55,
   "id": "19b765bc",
   "metadata": {},
   "outputs": [
    {
     "name": "stdout",
     "output_type": "stream",
     "text": [
      "0.9175\n",
      "0.946\n"
     ]
    }
   ],
   "source": [
    "# get last 1000 rewards\n",
    "rewards_q_end = rewards_q[-2000:]\n",
    "rewards_s_end = rewards_s[-2000:]\n",
    "print(np.mean(rewards_q_end))\n",
    "print(np.mean(rewards_s_end))"
   ]
  },
  {
   "cell_type": "code",
   "execution_count": 56,
   "id": "fb6c97b0",
   "metadata": {},
   "outputs": [
    {
     "name": "stdout",
     "output_type": "stream",
     "text": [
      "9.639\n",
      "6.2405\n"
     ]
    }
   ],
   "source": [
    "steps_q_end = steps_q[-2000:]\n",
    "steps_s_end = steps_s[-2000:]\n",
    "print(np.mean(steps_q_end))\n",
    "print(np.mean(steps_s_end))"
   ]
  },
  {
   "cell_type": "code",
   "execution_count": 39,
   "metadata": {},
   "outputs": [
    {
     "data": {
      "image/png": "[encoded data removed]",
      "text/plain": [
       "<Figure size 432x288 with 1 Axes>"
      ]
     },
     "metadata": {
      "needs_background": "light"
     },
     "output_type": "display_data"
    },
    {
     "data": {
      "image/png": "[encoded data removed]",
      "text/plain": [
       "<Figure size 432x288 with 1 Axes>"
      ]
     },
     "metadata": {
      "needs_background": "light"
     },
     "output_type": "display_data"
    }
   ],
   "source": [
    "plot_results(rewards_q, 0.0005, True)\n",
    "plot_results(rewards_s, 0.0005, True)"
   ]
  },
  {
   "cell_type": "code",
   "execution_count": 49,
   "id": "0dd5ebc5",
   "metadata": {},
   "outputs": [],
   "source": [
    "def plot_q_and_sarsa(q, s, alpha):\n",
    "    \n",
    "    ema_q = np.zeros_like(q)  # Initialize an array for EMA values\n",
    "    ema_q[0] = q[0]  # Set the initial EMA value equal to the first data point\n",
    "    for i in range(1, len(q)):\n",
    "        ema_q[i] = alpha * q[i] + (1 - alpha) * ema_q[i-1]\n",
    "    ema_s = np.zeros_like(s)  # Initialize an array for EMA values\n",
    "    ema_s[0] = s[0]  # Set the initial EMA value equal to the first data point\n",
    "    for i in range(1, len(s)):\n",
    "        ema_s[i] = alpha * s[i] + (1 - alpha) * ema_s[i-1]\n",
    "\n",
    "    fig=plt.subplots(1,1)\n",
    "    plt.plot(np.sum(ema_q,1), label='Q-learning')\n",
    "    plt.plot(np.sum(ema_s,1), label='SARSA')\n",
    "    plt.legend()\n",
    "    plt.xlabel('Episode Number')\n",
    "    plt.ylabel('Reward')\n",
    "    plt.show()\n"
   ]
  },
  {
   "cell_type": "code",
   "execution_count": 50,
   "id": "7e3cb411",
   "metadata": {},
   "outputs": [
    {
     "data": {
      "image/png": "[encoded data removed]",
      "text/plain": [
       "<Figure size 432x288 with 1 Axes>"
      ]
     },
     "metadata": {
      "needs_background": "light"
     },
     "output_type": "display_data"
    }
   ],
   "source": [
    "plot_q_and_sarsa(rewards_q, rewards_s, 0.0005)"
   ]
  },
  {
   "cell_type": "code",
   "execution_count": 51,
   "id": "92371c4d",
   "metadata": {},
   "outputs": [
    {
     "data": {
      "image/png": "[encoded data removed]",
      "text/plain": [
       "<Figure size 432x288 with 1 Axes>"
      ]
     },
     "metadata": {
      "needs_background": "light"
     },
     "output_type": "display_data"
    }
   ],
   "source": [
    "plot_q_and_sarsa(steps_q, steps_s, 0.0005)"
   ]
  },
  {
   "cell_type": "code",
   "execution_count": 29,
   "metadata": {},
   "outputs": [
    {
     "data": {
      "image/png": "[encoded data removed]",
      "text/plain": [
       "<Figure size 432x288 with 1 Axes>"
      ]
     },
     "metadata": {
      "needs_background": "light"
     },
     "output_type": "display_data"
    }
   ],
   "source": [
    "plot_results(steps, 0.0005, False)"
   ]
  },
  {
   "cell_type": "code",
   "execution_count": null,
   "metadata": {},
   "outputs": [],
   "source": []
  }
 ],
 "metadata": {
  "kernelspec": {
   "display_name": "Python 3",
   "language": "python",
   "name": "python3"
  },
  "language_info": {
   "codemirror_mode": {
    "name": "ipython",
    "version": 3
   },
   "file_extension": ".py",
   "mimetype": "text/x-python",
   "name": "python",
   "nbconvert_exporter": "python",
   "pygments_lexer": "ipython3",
   "version": "3.8.8"
  }
 },
 "nbformat": 4,
 "nbformat_minor": 5
}
